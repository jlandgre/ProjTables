{
 "cells": [
  {
   "cell_type": "code",
   "execution_count": null,
   "metadata": {},
   "outputs": [],
   "source": [
    "import os\n",
    "os.environ['MKL_VERBOSE'] = '0'\n",
    "import pandas as pd"
   ]
  },
  {
   "cell_type": "code",
   "execution_count": null,
   "metadata": {},
   "outputs": [],
   "source": [
    "df = pd.DataFrame({'q_text':3*['id1']+3*['id2'],\n",
    "                   'Choices':['a','b','c','a','b','c'],\n",
    "                   'perc':[1,2,3,4,5,6],\n",
    "                   'count':[10,20,30,40,50,60]})\n",
    "df"
   ]
  },
  {
   "cell_type": "code",
   "execution_count": null,
   "metadata": {},
   "outputs": [],
   "source": [
    "#Single index example\n",
    "df1 = df.drop(columns=['q_text']).set_index(['Choices'])\n",
    "print(df1)\n",
    "df1 = df1.stack().reset_index()\n",
    "df1.columns = ['Choices','Metric','Value']\n",
    "df1.set_index('Choices')\n",
    "df1"
   ]
  },
  {
   "cell_type": "markdown",
   "metadata": {},
   "source": [
    "#### Best Stack procedure\n",
    "starting with tbl.df that has its default index:\n",
    "1. construct lst_idx_multi that is list of block_id vars + default index\n",
    "2. set the index to be lst_idx_multi\n",
    "3. Stack + reset_index to convert to DataFrame\n",
    "4. Set column names as lst_idx_multi + ['Metric', 'Value']\n",
    "5. Reset the default index"
   ]
  },
  {
   "cell_type": "code",
   "execution_count": null,
   "metadata": {},
   "outputs": [],
   "source": [
    "#With block_id  example\n",
    "col_idx_default = ['Choices']\n",
    "df3 = df.set_index(col_idx_default)\n",
    "\n",
    "#Set multiindex\n",
    "lst_idx_multi = ['q_text'] + col_idx_default\n",
    "df3 = df3.reset_index().set_index(lst_idx_multi)\n",
    "print(df3)\n",
    "\n",
    "df3 = df3.stack().reset_index()\n",
    "df3.columns = ['q_text', 'Choices','Metric','Value']\n",
    "df3 = df3.set_index(col_idx_default)\n",
    "df3"
   ]
  }
 ],
 "metadata": {
  "kernelspec": {
   "display_name": "Latest",
   "language": "python",
   "name": "python3"
  },
  "language_info": {
   "codemirror_mode": {
    "name": "ipython",
    "version": 3
   },
   "file_extension": ".py",
   "mimetype": "text/x-python",
   "name": "python",
   "nbconvert_exporter": "python",
   "pygments_lexer": "ipython3",
   "version": "3.11.3"
  }
 },
 "nbformat": 4,
 "nbformat_minor": 2
}
